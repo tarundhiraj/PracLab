{
 "cells": [
  {
   "cell_type": "markdown",
   "metadata": {},
   "source": [
    "# Base 64 Encoding"
   ]
  },
  {
   "cell_type": "code",
   "execution_count": 18,
   "metadata": {},
   "outputs": [
    {
     "name": "stdout",
     "output_type": "stream",
     "text": [
      "['d', 'G', 'h', 'p', 'c', 'y', 'B', 'p', 'c', 'y', 'B', 'h', 'I', 'H', 'R', 'l', 'c', '3', 'E']\n"
     ]
    }
   ],
   "source": [
    "def to_base_64(strng):\n",
    "    import string\n",
    "    cset = string.ascii_uppercase + string.ascii_lowercase + string.digits + '+/'\n",
    "    mmap = { x:y for x,y in enumerate(cset) }\n",
    "    binary = []\n",
    "    base64 = []\n",
    "    for x in strng:\n",
    "        b = bin(ord(x)).split('b')[1]\n",
    "        l = 8 - len(b)\n",
    "        b = '0' * l + b\n",
    "        binary.append(b)\n",
    "    binary = ''.join(binary)\n",
    "    #print(binary)\n",
    "    #print(len(binary))\n",
    "    block = 6\n",
    "    steps = len(binary) // block\n",
    "    remain = len(binary) % block\n",
    "    #print(steps, remain)\n",
    "    \n",
    "    i = 0\n",
    "    while i < len(binary):\n",
    "        index = int(binary[i: i + block], 2)\n",
    "        base64.append(mmap[index])\n",
    "        i = i + block\n",
    "    \n",
    "    print(base64) \n",
    "\n",
    "to_base_64(\"this is a test\")"
   ]
  },
  {
   "cell_type": "markdown",
   "metadata": {},
   "source": [
    "This doesn't work"
   ]
  },
  {
   "cell_type": "code",
   "execution_count": 3,
   "metadata": {},
   "outputs": [
    {
     "name": "stdout",
     "output_type": "stream",
     "text": [
      "4 2\n",
      "['011101000110100001101001', '011100110010000001101001', '011100110010000001100001', '001000000111010001100101', '00100000011101000110010100000000']\n"
     ]
    },
    {
     "data": {
      "text/plain": [
       "'dGhpcyBpcyBhIHRlIHRl=='"
      ]
     },
     "execution_count": 3,
     "metadata": {},
     "output_type": "execute_result"
    }
   ],
   "source": [
    "def get_binary(part):\n",
    "    binary = []\n",
    "    for x in part:\n",
    "        b = bin(ord(x)).split('b')[1]\n",
    "        l = 8 - len(b)\n",
    "        b = '0' * l + b\n",
    "        binary.append(b)\n",
    "    binary = ''.join(binary)\n",
    "    return binary\n",
    "\n",
    "def to_base_64(strng):\n",
    "    import string\n",
    "    cset = string.ascii_uppercase + string.ascii_lowercase + string.digits + '+/'\n",
    "    mmap = { x:y for x,y in enumerate(cset) }\n",
    "    base64 = []\n",
    "    blocks = []\n",
    "    \n",
    "    block = 3\n",
    "    blocksize = 6\n",
    "    steps = len(strng) // block\n",
    "    remain = len(strng) % block\n",
    "    print(steps, remain)\n",
    "    i = 0\n",
    "    index = 0\n",
    "    while i < steps:\n",
    "        part = strng[index : index + block]\n",
    "        blocks.append(get_binary(part))\n",
    "        i += 1\n",
    "        index += block\n",
    "    diff = block - remain\n",
    "    blocks.append(get_binary(part) + '0' * diff * 8)\n",
    "    print(blocks)\n",
    "    for b in blocks:\n",
    "        i = 0\n",
    "        while i < len(b):\n",
    "            index = int(b[i:i+blocksize], 2)\n",
    "            if index == 0:\n",
    "                base64.append('=')\n",
    "            else:\n",
    "                base64.append(mmap[index])\n",
    "            i += blocksize\n",
    "    return ''.join(base64)\n",
    "        \n",
    "  \n",
    "to_base_64(\"this is a test\")        "
   ]
  },
  {
   "cell_type": "code",
   "execution_count": 16,
   "metadata": {
    "scrolled": true
   },
   "outputs": [
    {
     "name": "stdout",
     "output_type": "stream",
     "text": [
      "dGhpcyBpcyBhIHN0cmluZyEh\n",
      "['YW55', 'IGNh', 'cm5h', 'bCBw', 'bGVh', 'cw==']\n",
      "['011000', '010110', '111001', '111001']\n",
      "['001000', '000110', '001101', '100001']\n",
      "['011100', '100110', '111001', '100001']\n",
      "['011011', '000010', '000001', '110000']\n",
      "['011011', '000110', '010101', '100001']\n",
      "['011100', '110000', '000000', '000000']\n"
     ]
    },
    {
     "data": {
      "text/plain": [
       "'any carnal pleas'"
      ]
     },
     "execution_count": 16,
     "metadata": {},
     "output_type": "execute_result"
    }
   ],
   "source": [
    "import string\n",
    "cset = string.ascii_uppercase + string.ascii_lowercase + string.digits + '+/'\n",
    "mmap = { x:y for x,y in enumerate(cset) }\n",
    "\n",
    "def get_binary(part):\n",
    "    binary = []\n",
    "    for x in part:\n",
    "        b = bin(ord(x)).split('b')[1]\n",
    "        l = 8 - len(b)\n",
    "        b = '0' * l + b\n",
    "        binary.append(b)\n",
    "    binary = ''.join(binary)\n",
    "    return binary\n",
    "\n",
    "def _to_base64(blist):\n",
    "    global mmap\n",
    "    base64 = []\n",
    "    if len(blist) == 3:\n",
    "        index = 0\n",
    "        blist = ''.join(blist)\n",
    "        while index < len(blist):\n",
    "            ind = int(blist[index : index + 6], 2)\n",
    "            base64.append(mmap[ind])\n",
    "            index += 6\n",
    "        return ''.join(base64)\n",
    "    else:\n",
    "        diff = 3 - len(blist)\n",
    "        blist.append('0' * 8 * diff)\n",
    "        blist = ''.join(blist)\n",
    "        index = 0\n",
    "        turn = 0\n",
    "        while turn <= (3 - diff):\n",
    "            ind = int(blist[index : index + 6], 2)\n",
    "            base64.append(mmap[ind])\n",
    "            turn += 1\n",
    "            index += 6\n",
    "        base64.append('=' * diff)\n",
    "        return ''.join(base64)\n",
    "    \n",
    "    \n",
    "\n",
    "def to_base_64(strng):\n",
    "    global mmap\n",
    "    #print(mmap)\n",
    "    blocks = []\n",
    "    index = 0\n",
    "    while index < len(strng):\n",
    "        blocks.append(strng[index : index+3])\n",
    "        index += 3\n",
    "    #print(blocks)\n",
    "    base64 = []\n",
    "    for block in blocks:\n",
    "        blist = []\n",
    "        for x in block:\n",
    "            blist.append(get_binary(x))\n",
    "        base64.append(_to_base64(blist))\n",
    "        #print(blist)\n",
    "    #print(base64)\n",
    "    return ''.join(base64)\n",
    "\n",
    "def _binary6(ch):\n",
    "    return bin(ord(ch)).split('b')[1]\n",
    "\n",
    "def from_base_64(strng):\n",
    "    global cset\n",
    "    blocks = []\n",
    "    nbase64 = []\n",
    "    index = 0\n",
    "    while index < len(strng):\n",
    "        blocks.append(strng[index : index + 4])\n",
    "        index += 4\n",
    "    print(blocks)\n",
    "    for block in blocks:\n",
    "        if '=' in block:\n",
    "            #special case\n",
    "            n = block.count('=')\n",
    "            it = 4-n\n",
    "            blist = []\n",
    "            for x in block:\n",
    "                if x == '=':\n",
    "                    blist.append('0' * 6)\n",
    "                else:\n",
    "                    ind = cset.index(x)\n",
    "                    b = bin(ind).split('b')[1]\n",
    "                    l = 8 - len(b)\n",
    "                    b = '0' * l + b\n",
    "                    blist.append(b[2:])        \n",
    "            print(blist)\n",
    "            blist = ''.join(blist)\n",
    "            index = 0\n",
    "            turn = 1\n",
    "            while turn < it:\n",
    "                nbase64.append(chr(int(blist[index : index + 8], 2)))\n",
    "                turn += 1\n",
    "                index += 8\n",
    "        else:\n",
    "            #normal case\n",
    "            blist = []\n",
    "            for x in block:\n",
    "                ind = cset.index(x)\n",
    "                b = bin(ind).split('b')[1]\n",
    "                l = 8 - len(b)\n",
    "                b = '0' * l + b\n",
    "                blist.append(b[2:])\n",
    "            print(blist)\n",
    "            blist = ''.join(blist)\n",
    "            index = 0\n",
    "            while index < len(blist):\n",
    "                nbase64.append(chr(int(blist[index : index + 8], 2)))\n",
    "                index += 8\n",
    "    return ''.join(nbase64)\n",
    "            \n",
    "print(to_base_64('this is a string!!'))\n",
    "from_base_64('YW55IGNhcm5hbCBwbGVhcw==')\n"
   ]
  },
  {
   "cell_type": "markdown",
   "metadata": {
    "collapsed": true
   },
   "source": [
    "Algebraic List"
   ]
  },
  {
   "cell_type": "code",
   "execution_count": 36,
   "metadata": {},
   "outputs": [
    {
     "name": "stdout",
     "output_type": "stream",
     "text": [
      "[1, 2, 3, 4, 5]\n",
      "[4, 5]\n",
      "[1, 2, 3, 4, 5]\n",
      "['1', '2', '3', '4', '5']\n"
     ]
    }
   ],
   "source": [
    "class Cons:\n",
    "  def __init__(self, head, tail):\n",
    "    self.head = head\n",
    "    self.tail = tail\n",
    "    \n",
    "  def to_array(self):\n",
    "    tail = self.tail\n",
    "    new_tail = (tail.to_array() if tail is not None else [])\n",
    "    return [self.head] + new_tail\n",
    " \n",
    "  @classmethod\n",
    "  def from_array(cls, arr):\n",
    "    if arr == []:\n",
    "        return None\n",
    "    return Cons(arr[0], Cons.from_array(arr[1:]))\n",
    "\n",
    "  def filter(self, fn):\n",
    "    arr = [ x for x in self.to_array() if fn(x) ]\n",
    "    return Cons.from_array(arr)\n",
    "\n",
    "  def map(self, fn):\n",
    "    return Cons.from_array([fn(x) for x in self.to_array()])\n",
    "    \n",
    "\n",
    "numbers = Cons(1, Cons(2, Cons(3, Cons(4, Cons(5, None)))))\n",
    "print(numbers.to_array())\n",
    "num = Cons.from_array([1,2,3,4,5]).filter(lambda x: x > 3)\n",
    "print(num.to_array())\n",
    "strng = Cons.from_array([\"1\",\"2\",\"3\",\"4\",\"5\"]).map(int)\n",
    "print(strng.to_array())\n",
    "ints = Cons.from_array([1, 2, 3, 4, 5]).map(str)\n",
    "print(ints.to_array())\n"
   ]
  }
 ],
 "metadata": {
  "kernelspec": {
   "display_name": "Python 3",
   "language": "python",
   "name": "python3"
  },
  "language_info": {
   "codemirror_mode": {
    "name": "ipython",
    "version": 3
   },
   "file_extension": ".py",
   "mimetype": "text/x-python",
   "name": "python",
   "nbconvert_exporter": "python",
   "pygments_lexer": "ipython3",
   "version": "3.6.3"
  }
 },
 "nbformat": 4,
 "nbformat_minor": 2
}

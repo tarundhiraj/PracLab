{
 "cells": [
  {
   "cell_type": "code",
   "execution_count": 5,
   "metadata": {},
   "outputs": [
    {
     "name": "stdout",
     "output_type": "stream",
     "text": [
      "0111010001101000011010010111001100100000011010010111001100100000011000010010000001110100011001010111001101110100\n"
     ]
    }
   ],
   "source": [
    "def to_base_64(strng):\n",
    "    import string\n",
    "    cset = string.ascii_uppercase + string.ascii_lowercase + string.digits + '+/'\n",
    "    mmap = { x:y for x,y in enumerate(cset) }\n",
    "    binary = []\n",
    "    base64 = []\n",
    "    for x in strng:\n",
    "        b = bin(ord(x)).split('b')[1]\n",
    "        l = 8 - len(b)\n",
    "        b = '0' * l + b\n",
    "        binary.append(b)\n",
    "    binary = ''.join(binary)\n",
    "    #print(binary)\n",
    "\n",
    "to_base_64(\"this is a test\")"
   ]
  },
  {
   "cell_type": "code",
   "execution_count": null,
   "metadata": {
    "collapsed": true
   },
   "outputs": [],
   "source": []
  }
 ],
 "metadata": {
  "kernelspec": {
   "display_name": "Python 3",
   "language": "python",
   "name": "python3"
  },
  "language_info": {
   "codemirror_mode": {
    "name": "ipython",
    "version": 3
   },
   "file_extension": ".py",
   "mimetype": "text/x-python",
   "name": "python",
   "nbconvert_exporter": "python",
   "pygments_lexer": "ipython3",
   "version": "3.6.3"
  }
 },
 "nbformat": 4,
 "nbformat_minor": 2
}
